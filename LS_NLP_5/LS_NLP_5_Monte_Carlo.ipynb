{
 "cells": [
  {
   "cell_type": "markdown",
   "metadata": {},
   "source": [
    "Возможно, я не поняла, как сделать умнее и красивее, поэтому меня смущает, что вме мое решение - это несколько строк.\n",
    "\n",
    "Алгоритм следующий:\n",
    " - 1. с помощью np.random.randint гереним 20 случайных чисел от 1 до 10 - это будут голоса 20 человек за 10 кандидатов\n",
    " - 2. проверяем, встречаются ли среди сгенерированных 20 чисел все числа от 1 до 10 хотя бы раз. Если нет, то значит, что хотя бы за одного кандидата не проголосовали - будем считать такие случаи.\n",
    " - повторяем 1-2 N (simulations_num) раз, на каждой итерации увеличивая счетчик, если 2. не подтвердилось\n",
    " - делим получившийся после N итераций счетчик на N - это и будет искомая приближенная вероятность"
   ]
  },
  {
   "cell_type": "code",
   "execution_count": 200,
   "metadata": {},
   "outputs": [],
   "source": [
    "import numpy as np\n",
    "\n",
    "def select_not_all_candidates_probability(simulations_num = 10000):\n",
    "    not_all_candidates = 0 # счетчик случаев, когда хотя бы одного кандидата не выбрали\n",
    "    for j in range(0, simulations_num):\n",
    "        a = np.random.randint(low = 1, high = 11, size = 20)\n",
    "        b = set(a)\n",
    "        if(len(b) < 10):\n",
    "            not_all_candidates += 1\n",
    "    \n",
    "    return float(not_all_candidates/simulations_num)"
   ]
  },
  {
   "cell_type": "code",
   "execution_count": 214,
   "metadata": {},
   "outputs": [
    {
     "name": "stdout",
     "output_type": "stream",
     "text": [
      "For 5000000 simulations the probability is 0.78553\n",
      "\n",
      "For 10,000,000 simulations the probability is :\n",
      "\n",
      "0.78509\n",
      "0.78528\n",
      "0.78523\n",
      "0.78519\n",
      "0.78529\n",
      "0.78514\n",
      "0.78528\n",
      "0.78537\n",
      "0.78533\n",
      "0.7853\n",
      "\n",
      "AVG: 0.78525\n"
     ]
    }
   ],
   "source": [
    "simulations_num = 5000000\n",
    "\n",
    "print('For {} simulations the probability is'.format(simulations_num), \n",
    "      '{:.5f}'.format(select_not_all_candidates_probability(simulations_num)))\n",
    "\n",
    "# максимально мне удалось запустить на 10,000,000 итераций (зато 10 раз :), результаты следуюшие\n",
    "simulations_10000000 = [0.78509, 0.78528, 0.78523, 0.78519, 0.78529, 0.78514, 0.78528, 0.78537, 0.78533, 0.78530]\n",
    "\n",
    "print('\\nFor 10,000,000 simulations the probability is :\\n')\n",
    "\n",
    "sum = 0\n",
    "for prob in simulations_10000000:\n",
    "    sum += prob\n",
    "    print (prob)\n",
    "print('\\nAVG:', '{:.5f}'.format(sum/len(simulations_10000000)))"
   ]
  }
 ],
 "metadata": {
  "kernelspec": {
   "display_name": "Python 3",
   "language": "python",
   "name": "python3"
  },
  "language_info": {
   "codemirror_mode": {
    "name": "ipython",
    "version": 3
   },
   "file_extension": ".py",
   "mimetype": "text/x-python",
   "name": "python",
   "nbconvert_exporter": "python",
   "pygments_lexer": "ipython3",
   "version": "3.8.5"
  }
 },
 "nbformat": 4,
 "nbformat_minor": 4
}
