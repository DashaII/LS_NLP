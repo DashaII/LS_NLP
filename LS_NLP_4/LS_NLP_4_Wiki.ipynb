{
 "cells": [
  {
   "cell_type": "markdown",
   "metadata": {},
   "source": [
    "Функция для чтения файла. Принимает путь к файлу, возвращает содержимое файла как строку"
   ]
  },
  {
   "cell_type": "code",
   "execution_count": 2,
   "metadata": {},
   "outputs": [],
   "source": [
    "def read_file(file_path):\n",
    "    with open(file_path, encoding = \"utf8\") as input_file:\n",
    "        return input_file.read()"
   ]
  },
  {
   "cell_type": "markdown",
   "metadata": {},
   "source": [
    "Функция для чтения файла со словами для замены. Принимает ссылку на .csv файл, возвращает словарь "
   ]
  },
  {
   "cell_type": "code",
   "execution_count": 3,
   "metadata": {},
   "outputs": [],
   "source": [
    "import pandas as pd\n",
    "import requests\n",
    "import io\n",
    "    \n",
    "def read_change_words_dict(file_url):\n",
    "    download = requests.get(file_url).content\n",
    "    df = pd.read_csv(io.StringIO(download.decode('utf-8')))\n",
    "    change_words_dict = dict(zip(df['from'], df['to']))\n",
    "\n",
    "    # добавляю пару ёж-страус, потому что в статье про ежа ё с точками используется\n",
    "    change_words_dict['ёж'] = 'страус'\n",
    "\n",
    "    # убираю закравшийся в \"субкультуры \" пробел\n",
    "    change_words_dict['субкультуры'] = change_words_dict.pop('субкультуры ')\n",
    "\n",
    "    return change_words_dict"
   ]
  },
  {
   "cell_type": "markdown",
   "metadata": {},
   "source": [
    "Функция для замены слов в тексте. Принимает текст и словарь со словами для замены, возвращает отредактированный текст как строку"
   ]
  },
  {
   "cell_type": "code",
   "execution_count": 4,
   "metadata": {},
   "outputs": [],
   "source": [
    "import re\n",
    "\n",
    "def change_words_in_text(text, change_words_dict):\n",
    "    \n",
    "    edited_text = text\n",
    "    \n",
    "    for word in change_words_dict.keys():    \n",
    "        # выбираем слова, для которых символ справа-слева - это не буквы    \n",
    "        change_list = re.findall(rf'[^а-яА-я]{word}[^а-яА-я]', text, re.IGNORECASE)\n",
    "        change_set = set(change_list)\n",
    "\n",
    "        for pattern in change_set:\n",
    "            # не обрабатываем однобуквенные предлоги\\союзы с точкой,\n",
    "            # которые (скорее всего) инициал (В.Иванова, там, или И.Васильева)\n",
    "            if(len(word) == 1 and re.search(r'\\.$', pattern) != None): \n",
    "                continue\n",
    "\n",
    "            # добавляем обработку для заглавных букв и составляем замену с учетом символов справа-слева\n",
    "            if pattern.islower():\n",
    "                replacement = re.sub(word, change_words_dict[word], pattern)\n",
    "            else:\n",
    "                change_word = change_words_dict[word][0].upper() + change_words_dict[word][1:]\n",
    "                replacement = re.sub(word[0].upper() + word[1:], change_word, pattern, re.IGNORECASE)\n",
    "\n",
    "            # для строк, где встречаются спецальные символы, делаем их обычными символами\n",
    "            pattern = re.sub(r'\\)', '\\)', pattern)\n",
    "            pattern = re.sub(r'\\(', '\\(', pattern)\n",
    "            pattern = re.sub(r'\\]', '\\]', pattern)\n",
    "            pattern = re.sub(r'\\[', '\\[', pattern)\n",
    "            pattern = re.sub(r'\\.', '\\.', pattern)\n",
    "            \n",
    "            edited_text = re.sub(pattern, replacement, edited_text)            \n",
    "    return edited_text"
   ]
  },
  {
   "cell_type": "markdown",
   "metadata": {},
   "source": [
    "Функция для сохранения файла. Принимает путь к файлу и текст, который надо записать"
   ]
  },
  {
   "cell_type": "code",
   "execution_count": 5,
   "metadata": {},
   "outputs": [],
   "source": [
    "def create_file(file_path, text):\n",
    "    with open(file_path, 'w', encoding='utf-8') as output_file:\n",
    "        output_file.write(text)"
   ]
  },
  {
   "cell_type": "markdown",
   "metadata": {},
   "source": [
    "Основая часть - изменить пути к файлам, если надо"
   ]
  },
  {
   "cell_type": "code",
   "execution_count": 8,
   "metadata": {},
   "outputs": [],
   "source": [
    "original_files = ['LS_Py_Tasks/wiki/hedgehog_original.txt', 'LS_Py_Tasks/wiki/goth_original.txt', 'LS_Py_Tasks/wiki/tongue_original.txt']\n",
    "edited_files = ['LS_Py_Tasks/wiki/hedgehog_edited.txt', 'LS_Py_Tasks/wiki/goth_edited.txt', 'LS_Py_Tasks/wiki/tongue_edited.txt']\n",
    "\n",
    "# RAW URL!!!\n",
    "change_words_csv_url = \"https://raw.githubusercontent.com/sergeychuvakin/ML-TEXTS/master/intro/changes.csv\"\n",
    "\n",
    "for i in range (0, 3):\n",
    "    text = read_file(original_files[i])\n",
    "    edited_text = change_words_in_text(text, read_change_words_dict(change_words_csv_url))\n",
    "    create_file(edited_files[i], edited_text)"
   ]
  }
 ],
 "metadata": {
  "kernelspec": {
   "display_name": "Python 3",
   "language": "python",
   "name": "python3"
  },
  "language_info": {
   "codemirror_mode": {
    "name": "ipython",
    "version": 3
   },
   "file_extension": ".py",
   "mimetype": "text/x-python",
   "name": "python",
   "nbconvert_exporter": "python",
   "pygments_lexer": "ipython3",
   "version": "3.8.5"
  }
 },
 "nbformat": 4,
 "nbformat_minor": 4
}
